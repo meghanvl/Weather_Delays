{
 "cells": [
  {
   "cell_type": "code",
   "execution_count": 1,
   "metadata": {},
   "outputs": [],
   "source": [
    "import pandas as pd\n",
    "import sqlalchemy\n",
    "from sqlalchemy.ext.automap import automap_base\n",
    "from sqlalchemy.orm import Session\n",
    "from sqlalchemy import create_engine, func, inspect"
   ]
  },
  {
   "cell_type": "code",
   "execution_count": 2,
   "metadata": {},
   "outputs": [],
   "source": [
    "engine = create_engine(\"sqlite:///ORD_Delays.sqlite\", echo=False)"
   ]
  },
  {
   "cell_type": "code",
   "execution_count": 3,
   "metadata": {},
   "outputs": [],
   "source": [
    "inspector = inspect(engine)"
   ]
  },
  {
   "cell_type": "code",
   "execution_count": 4,
   "metadata": {},
   "outputs": [
    {
     "data": {
      "text/plain": [
       "['delays']"
      ]
     },
     "execution_count": 4,
     "metadata": {},
     "output_type": "execute_result"
    }
   ],
   "source": [
    "inspector.get_table_names()"
   ]
  },
  {
   "cell_type": "code",
   "execution_count": 5,
   "metadata": {},
   "outputs": [
    {
     "name": "stdout",
     "output_type": "stream",
     "text": [
      "AIRPORT_ID INTEGER\n",
      "YEAR INTEGER\n",
      "MONTH INTEGER\n",
      "DAY_OF_MONTH INTEGER\n",
      "FL_DATE TEXT\n",
      "OP_UNIQUE_CARRIER TEXT\n",
      "OP_CARRIER_AIRLINE_ID INTEGER\n",
      "OP_CARRIER TEXT\n",
      "TAIL_NUM TEXT\n",
      "OP_CARRIER_FL_NUM INTEGER\n",
      "ORIGIN_AIRPORT_ID INTEGER\n",
      "ORIGIN_AIRPORT_SEQ_ID INTEGER\n",
      "ORIGIN_CITY_MARKET_ID INTEGER\n",
      "ORIGIN TEXT\n",
      "ORIGIN_CITY_NAME TEXT\n",
      "ORIGIN_STATE_ABR TEXT\n",
      "ORIGIN_STATE_FIPS INTEGER\n",
      "ORIGIN_STATE_NM TEXT\n",
      "ORIGIN_WAC INTEGER\n",
      "CRS_DEP_TIME INTEGER\n",
      "DEP_TIME INTEGER\n",
      "DEP_DELAY INTEGER\n",
      "DEP_DELAY_NEW INTEGER\n",
      "DEP_DEL15 INTEGER\n",
      "DEP_DELAY_GROUP INTEGER\n",
      "DEP_TIME_BLK TEXT\n",
      "TAXI_OUT INTEGER\n",
      "WHEELS_OFF INTEGER\n",
      "CANCELLED INTEGER\n",
      "CANCELLATION_CODE TEXT\n",
      "DIVERTED INTEGER\n",
      "CRS_ELAPSED_TIME INTEGER\n",
      "ACTUAL_ELAPSED_TIME INTEGER\n",
      "AIR_TIME INTEGER\n",
      "FLIGHTS INTEGER\n",
      "DISTANCE INTEGER\n",
      "DISTANCE_GROUP INTEGER\n",
      "CARRIER_DELAY INTEGER\n",
      "WEATHER_DELAY INTEGER\n",
      "NAS_DELAY INTEGER\n",
      "SECURITY_DELAY INTEGER\n",
      "LATE_AIRCRAFT_DELAY INTEGER\n",
      "FIRST_DEP_TIME TEXT\n",
      "TOTAL_ADD_GTIME TEXT\n",
      "LONGEST_ADD_GTIME TEXT\n"
     ]
    }
   ],
   "source": [
    "columns=inspector.get_columns('delays')\n",
    "for column in columns:\n",
    "    print(column['name'], column['type'])"
   ]
  },
  {
   "cell_type": "code",
   "execution_count": 6,
   "metadata": {},
   "outputs": [
    {
     "data": {
      "text/plain": [
       "[(100, 2018, 1, 7, '1/7/2018', '9E', 20363, '9E', 'N228PQ', 3965, 13930, 1393006, 30977, 'ORD', 'Chicago, IL', 'IL', 17, 'Illinois', 41, 1000, 1206, 126, 126, 1, 8, '1000-1059', 19, 1225, 0, None, 0, 139, 128, 97, 1, 740, 3, 8, 0, 0, 0, 107, None, None, None),\n",
       " (101, 2018, 1, 23, '1/23/2018', '9E', 20363, '9E', 'N928XJ', 3965, 13930, 1393006, 30977, 'ORD', 'Chicago, IL', 'IL', 17, 'Illinois', 41, 1000, 1028, 28, 28, 1, 1, '1000-1059', 17, 1045, 0, None, 0, 139, 128, 104, 1, 740, 3, 0, 4, 0, 0, 13, None, None, None),\n",
       " (102, 2018, 1, 1, '1/1/2018', '9E', 20363, '9E', 'N924XJ', 3968, 13930, 1393006, 30977, 'ORD', 'Chicago, IL', 'IL', 17, 'Illinois', 41, 1335, 1411, 36, 36, 1, 2, '1300-1359', 23, 1434, 0, None, 0, 142, 133, 101, 1, 740, 3, 0, 0, 14, 0, 13, None, None, None),\n",
       " (103, 2018, 1, 1, '1/1/2018', '9E', 20363, '9E', 'N602LR', 4014, 13930, 1393006, 30977, 'ORD', 'Chicago, IL', 'IL', 17, 'Illinois', 41, 1245, 1308, 23, 23, 1, 1, '1200-1259', 86, 1434, 0, None, 0, 100, 152, 58, 1, 334, 2, 0, 5, 52, 0, 18, None, None, None),\n",
       " (104, 2018, 1, 2, '1/2/2018', '9E', 20363, '9E', 'N295PQ', 4066, 13930, 1393006, 30977, 'ORD', 'Chicago, IL', 'IL', 17, 'Illinois', 41, 700, 747, 47, 47, 1, 3, '0700-0759', 49, 836, 0, None, 0, 139, 157, 99, 1, 740, 3, 47, 0, 18, 0, 0, None, None, None),\n",
       " (105, 2018, 1, 5, '1/5/2018', '9E', 20363, '9E', 'N903XJ', 4066, 13930, 1393006, 30977, 'ORD', 'Chicago, IL', 'IL', 17, 'Illinois', 41, 700, 845, 105, 105, 1, 7, '0700-0759', 36, 921, 0, None, 0, 139, 228, 124, 1, 740, 3, 105, 0, 89, 0, 0, None, None, None),\n",
       " (106, 2018, 1, 6, '1/6/2018', '9E', 20363, '9E', 'N307PQ', 4066, 13930, 1393006, 30977, 'ORD', 'Chicago, IL', 'IL', 17, 'Illinois', 41, 700, 946, 166, 166, 1, 11, '0700-0759', 29, 1015, 0, None, 0, 137, 141, 103, 1, 740, 3, 0, 0, 170, 0, 0, None, None, None),\n",
       " (107, 2018, 1, 6, '1/6/2018', '9E', 20363, '9E', 'N301PQ', 4082, 13930, 1393006, 30977, 'ORD', 'Chicago, IL', 'IL', 17, 'Illinois', 41, 1815, 1840, 25, 25, 1, 1, '1800-1859', 17, 1857, 0, None, 0, 141, 131, 101, 1, 740, 3, 15, 0, 0, 0, 0, None, None, None),\n",
       " (108, 2018, 1, 2, '1/2/2018', '9E', 20363, '9E', 'N8908D', 3280, 13930, 1393006, 30977, 'ORD', 'Chicago, IL', 'IL', 17, 'Illinois', 41, 1020, 1134, 74, 74, 1, 4, '1000-1059', 16, 1150, 0, None, 0, 74, 60, 40, 1, 264, 2, 0, 10, 0, 0, 50, None, None, None),\n",
       " (109, 2018, 1, 1, '1/1/2018', '9E', 20363, '9E', 'N348PQ', 3285, 13930, 1393006, 30977, 'ORD', 'Chicago, IL', 'IL', 17, 'Illinois', 41, 1215, 1320, 65, 65, 1, 4, '1200-1259', 17, 1337, 0, None, 0, 129, 102, 81, 1, 606, 3, 38, 0, 0, 0, 0, None, None, None)]"
      ]
     },
     "execution_count": 6,
     "metadata": {},
     "output_type": "execute_result"
    }
   ],
   "source": [
    "engine.execute('SELECT * FROM delays LIMIT 10').fetchall()"
   ]
  },
  {
   "cell_type": "code",
   "execution_count": 7,
   "metadata": {},
   "outputs": [],
   "source": [
    "Base = automap_base()\n",
    "Base.prepare(engine, reflect=True)\n",
    "Delays = Base.classes.delays"
   ]
  },
  {
   "cell_type": "code",
   "execution_count": 8,
   "metadata": {},
   "outputs": [],
   "source": [
    "session = Session(engine)"
   ]
  },
  {
   "cell_type": "code",
   "execution_count": 9,
   "metadata": {},
   "outputs": [
    {
     "name": "stdout",
     "output_type": "stream",
     "text": [
      "['AIRPORT_ID', 'YEAR', 'MONTH', 'DAY_OF_MONTH', 'FL_DATE', 'OP_UNIQUE_CARRIER', 'OP_CARRIER_AIRLINE_ID', 'OP_CARRIER', 'TAIL_NUM', 'OP_CARRIER_FL_NUM', 'ORIGIN_AIRPORT_ID', 'ORIGIN_AIRPORT_SEQ_ID', 'ORIGIN_CITY_MARKET_ID', 'ORIGIN', 'ORIGIN_CITY_NAME', 'ORIGIN_STATE_ABR', 'ORIGIN_STATE_FIPS', 'ORIGIN_STATE_NM', 'ORIGIN_WAC', 'CRS_DEP_TIME', 'DEP_TIME', 'DEP_DELAY', 'DEP_DELAY_NEW', 'DEP_DEL15', 'DEP_DELAY_GROUP', 'DEP_TIME_BLK', 'TAXI_OUT', 'WHEELS_OFF', 'CANCELLED', 'CANCELLATION_CODE', 'DIVERTED', 'CRS_ELAPSED_TIME', 'ACTUAL_ELAPSED_TIME', 'AIR_TIME', 'FLIGHTS', 'DISTANCE', 'DISTANCE_GROUP', 'CARRIER_DELAY', 'WEATHER_DELAY', 'NAS_DELAY', 'SECURITY_DELAY', 'LATE_AIRCRAFT_DELAY', 'FIRST_DEP_TIME', 'TOTAL_ADD_GTIME', 'LONGEST_ADD_GTIME']\n"
     ]
    }
   ],
   "source": [
    "delays = engine.execute('SELECT * FROM Delays')\n",
    "print(delays.keys())"
   ]
  },
  {
   "cell_type": "code",
   "execution_count": null,
   "metadata": {},
   "outputs": [],
   "source": []
  }
 ],
 "metadata": {
  "kernelspec": {
   "display_name": "Pandasenv",
   "language": "python",
   "name": "pandasenv"
  },
  "language_info": {
   "codemirror_mode": {
    "name": "ipython",
    "version": 3
   },
   "file_extension": ".py",
   "mimetype": "text/x-python",
   "name": "python",
   "nbconvert_exporter": "python",
   "pygments_lexer": "ipython3",
   "version": "3.8.3"
  }
 },
 "nbformat": 4,
 "nbformat_minor": 4
}
